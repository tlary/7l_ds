{
 "cells": [
  {
   "cell_type": "code",
   "execution_count": 1,
   "metadata": {},
   "outputs": [],
   "source": [
    "%load_ext google.cloud.bigquery"
   ]
  },
  {
   "cell_type": "markdown",
   "metadata": {},
   "source": [
    "# \"Will it snow tomorrow?\" - The time traveler asked\n",
    "The following dataset contains climate information form over 9000 stations accross the world. The overall goal of these subtasks will be to predict whether it will snow tomorrow 11 years ago. So if today is 2021.02.15 then the weather we want to forecast is for the date 2010.02.16. You are suppsed to solve the tasks using Big Query, which can be used in the Jupyter Notebook like it is shown in the following cell. For further information and how to used BigQuery in Jupyter Notebook refer to the Google Docs. \n",
    "\n",
    "The goal of this test is, to test your coding knowledge in Python, BigQuery and Pandas as well as your understanding of Data Science. If you get stuck at the first part, you can use the replacement data provided in the second part"
   ]
  },
  {
   "cell_type": "code",
   "execution_count": 2,
   "metadata": {},
   "outputs": [
    {
     "name": "stderr",
     "output_type": "stream",
     "text": [
      "Query complete after 0.01s: 100%|██████████| 1/1 [00:00<00:00, 805.51query/s] \n",
      "Downloading: 100%|██████████| 20/20 [00:02<00:00,  7.49rows/s]\n"
     ]
    },
    {
     "data": {
      "text/html": [
       "<div>\n",
       "<style scoped>\n",
       "    .dataframe tbody tr th:only-of-type {\n",
       "        vertical-align: middle;\n",
       "    }\n",
       "\n",
       "    .dataframe tbody tr th {\n",
       "        vertical-align: top;\n",
       "    }\n",
       "\n",
       "    .dataframe thead th {\n",
       "        text-align: right;\n",
       "    }\n",
       "</style>\n",
       "<table border=\"1\" class=\"dataframe\">\n",
       "  <thead>\n",
       "    <tr style=\"text-align: right;\">\n",
       "      <th></th>\n",
       "      <th>station_number</th>\n",
       "      <th>wban_number</th>\n",
       "      <th>year</th>\n",
       "      <th>month</th>\n",
       "      <th>day</th>\n",
       "      <th>mean_temp</th>\n",
       "      <th>num_mean_temp_samples</th>\n",
       "      <th>mean_dew_point</th>\n",
       "      <th>num_mean_dew_point_samples</th>\n",
       "      <th>mean_sealevel_pressure</th>\n",
       "      <th>...</th>\n",
       "      <th>min_temperature</th>\n",
       "      <th>min_temperature_explicit</th>\n",
       "      <th>total_precipitation</th>\n",
       "      <th>snow_depth</th>\n",
       "      <th>fog</th>\n",
       "      <th>rain</th>\n",
       "      <th>snow</th>\n",
       "      <th>hail</th>\n",
       "      <th>thunder</th>\n",
       "      <th>tornado</th>\n",
       "    </tr>\n",
       "  </thead>\n",
       "  <tbody>\n",
       "    <tr>\n",
       "      <th>0</th>\n",
       "      <td>39730</td>\n",
       "      <td>99999</td>\n",
       "      <td>1929</td>\n",
       "      <td>10</td>\n",
       "      <td>20</td>\n",
       "      <td>52.799999</td>\n",
       "      <td>4</td>\n",
       "      <td>45.500000</td>\n",
       "      <td>4.0</td>\n",
       "      <td>NaN</td>\n",
       "      <td>...</td>\n",
       "      <td>NaN</td>\n",
       "      <td>None</td>\n",
       "      <td>0.0</td>\n",
       "      <td>NaN</td>\n",
       "      <td>False</td>\n",
       "      <td>False</td>\n",
       "      <td>False</td>\n",
       "      <td>False</td>\n",
       "      <td>False</td>\n",
       "      <td>False</td>\n",
       "    </tr>\n",
       "    <tr>\n",
       "      <th>1</th>\n",
       "      <td>33110</td>\n",
       "      <td>99999</td>\n",
       "      <td>1929</td>\n",
       "      <td>12</td>\n",
       "      <td>18</td>\n",
       "      <td>47.500000</td>\n",
       "      <td>4</td>\n",
       "      <td>44.000000</td>\n",
       "      <td>4.0</td>\n",
       "      <td>NaN</td>\n",
       "      <td>...</td>\n",
       "      <td>NaN</td>\n",
       "      <td>None</td>\n",
       "      <td>NaN</td>\n",
       "      <td>NaN</td>\n",
       "      <td>False</td>\n",
       "      <td>False</td>\n",
       "      <td>False</td>\n",
       "      <td>False</td>\n",
       "      <td>False</td>\n",
       "      <td>False</td>\n",
       "    </tr>\n",
       "    <tr>\n",
       "      <th>2</th>\n",
       "      <td>37770</td>\n",
       "      <td>99999</td>\n",
       "      <td>1931</td>\n",
       "      <td>4</td>\n",
       "      <td>24</td>\n",
       "      <td>50.200001</td>\n",
       "      <td>4</td>\n",
       "      <td>44.299999</td>\n",
       "      <td>4.0</td>\n",
       "      <td>NaN</td>\n",
       "      <td>...</td>\n",
       "      <td>NaN</td>\n",
       "      <td>None</td>\n",
       "      <td>NaN</td>\n",
       "      <td>NaN</td>\n",
       "      <td>False</td>\n",
       "      <td>False</td>\n",
       "      <td>False</td>\n",
       "      <td>False</td>\n",
       "      <td>False</td>\n",
       "      <td>False</td>\n",
       "    </tr>\n",
       "    <tr>\n",
       "      <th>3</th>\n",
       "      <td>726810</td>\n",
       "      <td>24131</td>\n",
       "      <td>1931</td>\n",
       "      <td>6</td>\n",
       "      <td>23</td>\n",
       "      <td>65.099998</td>\n",
       "      <td>24</td>\n",
       "      <td>41.500000</td>\n",
       "      <td>8.0</td>\n",
       "      <td>NaN</td>\n",
       "      <td>...</td>\n",
       "      <td>NaN</td>\n",
       "      <td>None</td>\n",
       "      <td>0.0</td>\n",
       "      <td>NaN</td>\n",
       "      <td>False</td>\n",
       "      <td>False</td>\n",
       "      <td>False</td>\n",
       "      <td>False</td>\n",
       "      <td>False</td>\n",
       "      <td>False</td>\n",
       "    </tr>\n",
       "    <tr>\n",
       "      <th>4</th>\n",
       "      <td>726810</td>\n",
       "      <td>24131</td>\n",
       "      <td>1931</td>\n",
       "      <td>3</td>\n",
       "      <td>2</td>\n",
       "      <td>42.799999</td>\n",
       "      <td>24</td>\n",
       "      <td>31.500000</td>\n",
       "      <td>8.0</td>\n",
       "      <td>NaN</td>\n",
       "      <td>...</td>\n",
       "      <td>NaN</td>\n",
       "      <td>None</td>\n",
       "      <td>0.0</td>\n",
       "      <td>NaN</td>\n",
       "      <td>False</td>\n",
       "      <td>False</td>\n",
       "      <td>False</td>\n",
       "      <td>False</td>\n",
       "      <td>False</td>\n",
       "      <td>False</td>\n",
       "    </tr>\n",
       "    <tr>\n",
       "      <th>5</th>\n",
       "      <td>726810</td>\n",
       "      <td>24131</td>\n",
       "      <td>1931</td>\n",
       "      <td>9</td>\n",
       "      <td>17</td>\n",
       "      <td>67.000000</td>\n",
       "      <td>24</td>\n",
       "      <td>40.500000</td>\n",
       "      <td>8.0</td>\n",
       "      <td>NaN</td>\n",
       "      <td>...</td>\n",
       "      <td>NaN</td>\n",
       "      <td>None</td>\n",
       "      <td>0.0</td>\n",
       "      <td>NaN</td>\n",
       "      <td>False</td>\n",
       "      <td>False</td>\n",
       "      <td>False</td>\n",
       "      <td>False</td>\n",
       "      <td>False</td>\n",
       "      <td>False</td>\n",
       "    </tr>\n",
       "    <tr>\n",
       "      <th>6</th>\n",
       "      <td>726810</td>\n",
       "      <td>24131</td>\n",
       "      <td>1931</td>\n",
       "      <td>8</td>\n",
       "      <td>7</td>\n",
       "      <td>68.400002</td>\n",
       "      <td>24</td>\n",
       "      <td>37.200001</td>\n",
       "      <td>8.0</td>\n",
       "      <td>NaN</td>\n",
       "      <td>...</td>\n",
       "      <td>NaN</td>\n",
       "      <td>None</td>\n",
       "      <td>0.0</td>\n",
       "      <td>NaN</td>\n",
       "      <td>False</td>\n",
       "      <td>False</td>\n",
       "      <td>False</td>\n",
       "      <td>False</td>\n",
       "      <td>False</td>\n",
       "      <td>False</td>\n",
       "    </tr>\n",
       "    <tr>\n",
       "      <th>7</th>\n",
       "      <td>726810</td>\n",
       "      <td>24131</td>\n",
       "      <td>1932</td>\n",
       "      <td>7</td>\n",
       "      <td>14</td>\n",
       "      <td>64.099998</td>\n",
       "      <td>24</td>\n",
       "      <td>54.099998</td>\n",
       "      <td>8.0</td>\n",
       "      <td>NaN</td>\n",
       "      <td>...</td>\n",
       "      <td>NaN</td>\n",
       "      <td>None</td>\n",
       "      <td>NaN</td>\n",
       "      <td>NaN</td>\n",
       "      <td>False</td>\n",
       "      <td>False</td>\n",
       "      <td>False</td>\n",
       "      <td>False</td>\n",
       "      <td>False</td>\n",
       "      <td>False</td>\n",
       "    </tr>\n",
       "    <tr>\n",
       "      <th>8</th>\n",
       "      <td>726810</td>\n",
       "      <td>24131</td>\n",
       "      <td>1932</td>\n",
       "      <td>10</td>\n",
       "      <td>23</td>\n",
       "      <td>41.099998</td>\n",
       "      <td>24</td>\n",
       "      <td>31.000000</td>\n",
       "      <td>8.0</td>\n",
       "      <td>NaN</td>\n",
       "      <td>...</td>\n",
       "      <td>NaN</td>\n",
       "      <td>None</td>\n",
       "      <td>NaN</td>\n",
       "      <td>NaN</td>\n",
       "      <td>False</td>\n",
       "      <td>False</td>\n",
       "      <td>False</td>\n",
       "      <td>False</td>\n",
       "      <td>False</td>\n",
       "      <td>False</td>\n",
       "    </tr>\n",
       "    <tr>\n",
       "      <th>9</th>\n",
       "      <td>726810</td>\n",
       "      <td>24131</td>\n",
       "      <td>1932</td>\n",
       "      <td>1</td>\n",
       "      <td>5</td>\n",
       "      <td>24.600000</td>\n",
       "      <td>24</td>\n",
       "      <td>21.100000</td>\n",
       "      <td>8.0</td>\n",
       "      <td>NaN</td>\n",
       "      <td>...</td>\n",
       "      <td>NaN</td>\n",
       "      <td>None</td>\n",
       "      <td>NaN</td>\n",
       "      <td>NaN</td>\n",
       "      <td>True</td>\n",
       "      <td>True</td>\n",
       "      <td>True</td>\n",
       "      <td>True</td>\n",
       "      <td>True</td>\n",
       "      <td>True</td>\n",
       "    </tr>\n",
       "    <tr>\n",
       "      <th>10</th>\n",
       "      <td>726815</td>\n",
       "      <td>24106</td>\n",
       "      <td>1932</td>\n",
       "      <td>8</td>\n",
       "      <td>27</td>\n",
       "      <td>71.000000</td>\n",
       "      <td>24</td>\n",
       "      <td>NaN</td>\n",
       "      <td>NaN</td>\n",
       "      <td>NaN</td>\n",
       "      <td>...</td>\n",
       "      <td>NaN</td>\n",
       "      <td>None</td>\n",
       "      <td>0.0</td>\n",
       "      <td>NaN</td>\n",
       "      <td>False</td>\n",
       "      <td>False</td>\n",
       "      <td>False</td>\n",
       "      <td>False</td>\n",
       "      <td>False</td>\n",
       "      <td>False</td>\n",
       "    </tr>\n",
       "    <tr>\n",
       "      <th>11</th>\n",
       "      <td>726810</td>\n",
       "      <td>24131</td>\n",
       "      <td>1932</td>\n",
       "      <td>8</td>\n",
       "      <td>20</td>\n",
       "      <td>71.000000</td>\n",
       "      <td>24</td>\n",
       "      <td>41.700001</td>\n",
       "      <td>8.0</td>\n",
       "      <td>NaN</td>\n",
       "      <td>...</td>\n",
       "      <td>NaN</td>\n",
       "      <td>None</td>\n",
       "      <td>0.0</td>\n",
       "      <td>NaN</td>\n",
       "      <td>False</td>\n",
       "      <td>False</td>\n",
       "      <td>False</td>\n",
       "      <td>False</td>\n",
       "      <td>False</td>\n",
       "      <td>False</td>\n",
       "    </tr>\n",
       "    <tr>\n",
       "      <th>12</th>\n",
       "      <td>726810</td>\n",
       "      <td>24131</td>\n",
       "      <td>1932</td>\n",
       "      <td>5</td>\n",
       "      <td>21</td>\n",
       "      <td>55.200001</td>\n",
       "      <td>24</td>\n",
       "      <td>46.599998</td>\n",
       "      <td>8.0</td>\n",
       "      <td>NaN</td>\n",
       "      <td>...</td>\n",
       "      <td>NaN</td>\n",
       "      <td>None</td>\n",
       "      <td>NaN</td>\n",
       "      <td>NaN</td>\n",
       "      <td>False</td>\n",
       "      <td>False</td>\n",
       "      <td>False</td>\n",
       "      <td>False</td>\n",
       "      <td>False</td>\n",
       "      <td>False</td>\n",
       "    </tr>\n",
       "    <tr>\n",
       "      <th>13</th>\n",
       "      <td>370310</td>\n",
       "      <td>99999</td>\n",
       "      <td>1933</td>\n",
       "      <td>10</td>\n",
       "      <td>17</td>\n",
       "      <td>55.299999</td>\n",
       "      <td>4</td>\n",
       "      <td>NaN</td>\n",
       "      <td>NaN</td>\n",
       "      <td>NaN</td>\n",
       "      <td>...</td>\n",
       "      <td>NaN</td>\n",
       "      <td>None</td>\n",
       "      <td>0.0</td>\n",
       "      <td>NaN</td>\n",
       "      <td>False</td>\n",
       "      <td>False</td>\n",
       "      <td>False</td>\n",
       "      <td>False</td>\n",
       "      <td>False</td>\n",
       "      <td>False</td>\n",
       "    </tr>\n",
       "    <tr>\n",
       "      <th>14</th>\n",
       "      <td>292310</td>\n",
       "      <td>99999</td>\n",
       "      <td>1933</td>\n",
       "      <td>12</td>\n",
       "      <td>1</td>\n",
       "      <td>-11.000000</td>\n",
       "      <td>4</td>\n",
       "      <td>NaN</td>\n",
       "      <td>NaN</td>\n",
       "      <td>NaN</td>\n",
       "      <td>...</td>\n",
       "      <td>NaN</td>\n",
       "      <td>None</td>\n",
       "      <td>NaN</td>\n",
       "      <td>NaN</td>\n",
       "      <td>False</td>\n",
       "      <td>False</td>\n",
       "      <td>False</td>\n",
       "      <td>False</td>\n",
       "      <td>False</td>\n",
       "      <td>False</td>\n",
       "    </tr>\n",
       "    <tr>\n",
       "      <th>15</th>\n",
       "      <td>370310</td>\n",
       "      <td>99999</td>\n",
       "      <td>1933</td>\n",
       "      <td>6</td>\n",
       "      <td>17</td>\n",
       "      <td>62.700001</td>\n",
       "      <td>4</td>\n",
       "      <td>NaN</td>\n",
       "      <td>NaN</td>\n",
       "      <td>NaN</td>\n",
       "      <td>...</td>\n",
       "      <td>NaN</td>\n",
       "      <td>None</td>\n",
       "      <td>0.0</td>\n",
       "      <td>NaN</td>\n",
       "      <td>False</td>\n",
       "      <td>False</td>\n",
       "      <td>False</td>\n",
       "      <td>False</td>\n",
       "      <td>False</td>\n",
       "      <td>False</td>\n",
       "    </tr>\n",
       "    <tr>\n",
       "      <th>16</th>\n",
       "      <td>239330</td>\n",
       "      <td>99999</td>\n",
       "      <td>1933</td>\n",
       "      <td>6</td>\n",
       "      <td>4</td>\n",
       "      <td>70.500000</td>\n",
       "      <td>4</td>\n",
       "      <td>NaN</td>\n",
       "      <td>NaN</td>\n",
       "      <td>NaN</td>\n",
       "      <td>...</td>\n",
       "      <td>NaN</td>\n",
       "      <td>None</td>\n",
       "      <td>0.0</td>\n",
       "      <td>NaN</td>\n",
       "      <td>True</td>\n",
       "      <td>True</td>\n",
       "      <td>True</td>\n",
       "      <td>True</td>\n",
       "      <td>True</td>\n",
       "      <td>True</td>\n",
       "    </tr>\n",
       "    <tr>\n",
       "      <th>17</th>\n",
       "      <td>282750</td>\n",
       "      <td>99999</td>\n",
       "      <td>1933</td>\n",
       "      <td>1</td>\n",
       "      <td>7</td>\n",
       "      <td>-5.000000</td>\n",
       "      <td>4</td>\n",
       "      <td>NaN</td>\n",
       "      <td>NaN</td>\n",
       "      <td>NaN</td>\n",
       "      <td>...</td>\n",
       "      <td>NaN</td>\n",
       "      <td>None</td>\n",
       "      <td>0.0</td>\n",
       "      <td>NaN</td>\n",
       "      <td>False</td>\n",
       "      <td>False</td>\n",
       "      <td>False</td>\n",
       "      <td>False</td>\n",
       "      <td>False</td>\n",
       "      <td>False</td>\n",
       "    </tr>\n",
       "    <tr>\n",
       "      <th>18</th>\n",
       "      <td>292310</td>\n",
       "      <td>99999</td>\n",
       "      <td>1933</td>\n",
       "      <td>3</td>\n",
       "      <td>17</td>\n",
       "      <td>-10.300000</td>\n",
       "      <td>4</td>\n",
       "      <td>NaN</td>\n",
       "      <td>NaN</td>\n",
       "      <td>NaN</td>\n",
       "      <td>...</td>\n",
       "      <td>NaN</td>\n",
       "      <td>None</td>\n",
       "      <td>0.0</td>\n",
       "      <td>NaN</td>\n",
       "      <td>False</td>\n",
       "      <td>False</td>\n",
       "      <td>False</td>\n",
       "      <td>False</td>\n",
       "      <td>False</td>\n",
       "      <td>False</td>\n",
       "    </tr>\n",
       "    <tr>\n",
       "      <th>19</th>\n",
       "      <td>370310</td>\n",
       "      <td>99999</td>\n",
       "      <td>1933</td>\n",
       "      <td>4</td>\n",
       "      <td>23</td>\n",
       "      <td>65.000000</td>\n",
       "      <td>4</td>\n",
       "      <td>NaN</td>\n",
       "      <td>NaN</td>\n",
       "      <td>NaN</td>\n",
       "      <td>...</td>\n",
       "      <td>NaN</td>\n",
       "      <td>None</td>\n",
       "      <td>0.0</td>\n",
       "      <td>NaN</td>\n",
       "      <td>False</td>\n",
       "      <td>False</td>\n",
       "      <td>False</td>\n",
       "      <td>False</td>\n",
       "      <td>False</td>\n",
       "      <td>False</td>\n",
       "    </tr>\n",
       "  </tbody>\n",
       "</table>\n",
       "<p>20 rows × 31 columns</p>\n",
       "</div>"
      ],
      "text/plain": [
       "    station_number  wban_number  year  month  day  mean_temp  \\\n",
       "0            39730        99999  1929     10   20  52.799999   \n",
       "1            33110        99999  1929     12   18  47.500000   \n",
       "2            37770        99999  1931      4   24  50.200001   \n",
       "3           726810        24131  1931      6   23  65.099998   \n",
       "4           726810        24131  1931      3    2  42.799999   \n",
       "5           726810        24131  1931      9   17  67.000000   \n",
       "6           726810        24131  1931      8    7  68.400002   \n",
       "7           726810        24131  1932      7   14  64.099998   \n",
       "8           726810        24131  1932     10   23  41.099998   \n",
       "9           726810        24131  1932      1    5  24.600000   \n",
       "10          726815        24106  1932      8   27  71.000000   \n",
       "11          726810        24131  1932      8   20  71.000000   \n",
       "12          726810        24131  1932      5   21  55.200001   \n",
       "13          370310        99999  1933     10   17  55.299999   \n",
       "14          292310        99999  1933     12    1 -11.000000   \n",
       "15          370310        99999  1933      6   17  62.700001   \n",
       "16          239330        99999  1933      6    4  70.500000   \n",
       "17          282750        99999  1933      1    7  -5.000000   \n",
       "18          292310        99999  1933      3   17 -10.300000   \n",
       "19          370310        99999  1933      4   23  65.000000   \n",
       "\n",
       "    num_mean_temp_samples  mean_dew_point  num_mean_dew_point_samples  \\\n",
       "0                       4       45.500000                         4.0   \n",
       "1                       4       44.000000                         4.0   \n",
       "2                       4       44.299999                         4.0   \n",
       "3                      24       41.500000                         8.0   \n",
       "4                      24       31.500000                         8.0   \n",
       "5                      24       40.500000                         8.0   \n",
       "6                      24       37.200001                         8.0   \n",
       "7                      24       54.099998                         8.0   \n",
       "8                      24       31.000000                         8.0   \n",
       "9                      24       21.100000                         8.0   \n",
       "10                     24             NaN                         NaN   \n",
       "11                     24       41.700001                         8.0   \n",
       "12                     24       46.599998                         8.0   \n",
       "13                      4             NaN                         NaN   \n",
       "14                      4             NaN                         NaN   \n",
       "15                      4             NaN                         NaN   \n",
       "16                      4             NaN                         NaN   \n",
       "17                      4             NaN                         NaN   \n",
       "18                      4             NaN                         NaN   \n",
       "19                      4             NaN                         NaN   \n",
       "\n",
       "    mean_sealevel_pressure  ...  min_temperature  min_temperature_explicit  \\\n",
       "0                      NaN  ...              NaN                      None   \n",
       "1                      NaN  ...              NaN                      None   \n",
       "2                      NaN  ...              NaN                      None   \n",
       "3                      NaN  ...              NaN                      None   \n",
       "4                      NaN  ...              NaN                      None   \n",
       "5                      NaN  ...              NaN                      None   \n",
       "6                      NaN  ...              NaN                      None   \n",
       "7                      NaN  ...              NaN                      None   \n",
       "8                      NaN  ...              NaN                      None   \n",
       "9                      NaN  ...              NaN                      None   \n",
       "10                     NaN  ...              NaN                      None   \n",
       "11                     NaN  ...              NaN                      None   \n",
       "12                     NaN  ...              NaN                      None   \n",
       "13                     NaN  ...              NaN                      None   \n",
       "14                     NaN  ...              NaN                      None   \n",
       "15                     NaN  ...              NaN                      None   \n",
       "16                     NaN  ...              NaN                      None   \n",
       "17                     NaN  ...              NaN                      None   \n",
       "18                     NaN  ...              NaN                      None   \n",
       "19                     NaN  ...              NaN                      None   \n",
       "\n",
       "    total_precipitation  snow_depth    fog   rain   snow   hail  thunder  \\\n",
       "0                   0.0         NaN  False  False  False  False    False   \n",
       "1                   NaN         NaN  False  False  False  False    False   \n",
       "2                   NaN         NaN  False  False  False  False    False   \n",
       "3                   0.0         NaN  False  False  False  False    False   \n",
       "4                   0.0         NaN  False  False  False  False    False   \n",
       "5                   0.0         NaN  False  False  False  False    False   \n",
       "6                   0.0         NaN  False  False  False  False    False   \n",
       "7                   NaN         NaN  False  False  False  False    False   \n",
       "8                   NaN         NaN  False  False  False  False    False   \n",
       "9                   NaN         NaN   True   True   True   True     True   \n",
       "10                  0.0         NaN  False  False  False  False    False   \n",
       "11                  0.0         NaN  False  False  False  False    False   \n",
       "12                  NaN         NaN  False  False  False  False    False   \n",
       "13                  0.0         NaN  False  False  False  False    False   \n",
       "14                  NaN         NaN  False  False  False  False    False   \n",
       "15                  0.0         NaN  False  False  False  False    False   \n",
       "16                  0.0         NaN   True   True   True   True     True   \n",
       "17                  0.0         NaN  False  False  False  False    False   \n",
       "18                  0.0         NaN  False  False  False  False    False   \n",
       "19                  0.0         NaN  False  False  False  False    False   \n",
       "\n",
       "    tornado  \n",
       "0     False  \n",
       "1     False  \n",
       "2     False  \n",
       "3     False  \n",
       "4     False  \n",
       "5     False  \n",
       "6     False  \n",
       "7     False  \n",
       "8     False  \n",
       "9      True  \n",
       "10    False  \n",
       "11    False  \n",
       "12    False  \n",
       "13    False  \n",
       "14    False  \n",
       "15    False  \n",
       "16     True  \n",
       "17    False  \n",
       "18    False  \n",
       "19    False  \n",
       "\n",
       "[20 rows x 31 columns]"
      ]
     },
     "execution_count": 2,
     "metadata": {},
     "output_type": "execute_result"
    }
   ],
   "source": [
    "%%bigquery \n",
    "SELECT\n",
    "*,\n",
    "FROM `bigquery-public-data.samples.gsod`\n",
    "LIMIT 20 \n"
   ]
  },
  {
   "cell_type": "markdown",
   "metadata": {},
   "source": [
    "## Part 1"
   ]
  },
  {
   "cell_type": "markdown",
   "metadata": {},
   "source": [
    "### 1. Task\n",
    "*Change the date format to 'YYYY-MM-DD' and select the data from 2006 till 2010 for station numbers including and between 725300 and 726300 , and save it as a pandas dataframe. Note the maximum year available is 2010.*"
   ]
  },
  {
   "cell_type": "code",
   "execution_count": null,
   "metadata": {},
   "outputs": [],
   "source": [
    "# BigQuery Authorization\n",
    "#import os\n",
    "#os.environ[\"GOOGLE_APPLICATION_CREDENTIALS\"]=\"sl-ds-coding-challenge.json\""
   ]
  },
  {
   "cell_type": "code",
   "execution_count": 3,
   "metadata": {},
   "outputs": [],
   "source": [
    "# import pandas\n",
    "import pandas as pd"
   ]
  },
  {
   "cell_type": "code",
   "execution_count": 4,
   "metadata": {},
   "outputs": [
    {
     "name": "stderr",
     "output_type": "stream",
     "text": [
      "Query complete after 0.00s: 100%|██████████| 1/1 [00:00<00:00, 379.71query/s] \n",
      "Downloading: 100%|██████████| 323801/323801 [00:10<00:00, 31579.24rows/s]\n"
     ]
    }
   ],
   "source": [
    "%%bigquery weather_df\n",
    "SELECT \n",
    "DATE(year, month, day) as date, * EXCEPT(year, month, day), \n",
    "FROM `bigquery-public-data.samples.gsod`\n",
    "WHERE year BETWEEN 2006 AND 2010 \n",
    "AND station_number BETWEEN 725300 AND 726300"
   ]
  },
  {
   "cell_type": "markdown",
   "metadata": {},
   "source": [
    "*Comments: testing simple logical conditining, knowledge about sql syntax, and ability to find in doc how to store as df variable*"
   ]
  },
  {
   "cell_type": "markdown",
   "metadata": {},
   "source": [
    "### 2. Task \n",
    "*From here want to work with the data from all stations that have information from 2005 till 2010. Select the relevant data.*"
   ]
  },
  {
   "cell_type": "markdown",
   "metadata": {},
   "source": [
    "Getting the max date:"
   ]
  },
  {
   "cell_type": "code",
   "execution_count": 5,
   "metadata": {},
   "outputs": [
    {
     "name": "stderr",
     "output_type": "stream",
     "text": [
      "Query complete after 0.00s: 100%|██████████| 1/1 [00:00<00:00, 589.00query/s] \n",
      "Downloading: 100%|██████████| 1/1 [00:02<00:00,  2.58s/rows]\n"
     ]
    },
    {
     "data": {
      "text/html": [
       "<div>\n",
       "<style scoped>\n",
       "    .dataframe tbody tr th:only-of-type {\n",
       "        vertical-align: middle;\n",
       "    }\n",
       "\n",
       "    .dataframe tbody tr th {\n",
       "        vertical-align: top;\n",
       "    }\n",
       "\n",
       "    .dataframe thead th {\n",
       "        text-align: right;\n",
       "    }\n",
       "</style>\n",
       "<table border=\"1\" class=\"dataframe\">\n",
       "  <thead>\n",
       "    <tr style=\"text-align: right;\">\n",
       "      <th></th>\n",
       "      <th>f0_</th>\n",
       "    </tr>\n",
       "  </thead>\n",
       "  <tbody>\n",
       "    <tr>\n",
       "      <th>0</th>\n",
       "      <td>2010-04-16</td>\n",
       "    </tr>\n",
       "  </tbody>\n",
       "</table>\n",
       "</div>"
      ],
      "text/plain": [
       "          f0_\n",
       "0  2010-04-16"
      ]
     },
     "execution_count": 5,
     "metadata": {},
     "output_type": "execute_result"
    }
   ],
   "source": [
    "%%bigquery \n",
    "SELECT MAX(DATE(year, month, day))\n",
    "FROM `bigquery-public-data.samples.gsod`"
   ]
  },
  {
   "cell_type": "code",
   "execution_count": 6,
   "metadata": {},
   "outputs": [
    {
     "data": {
      "text/plain": [
       "datetime.timedelta(days=1931)"
      ]
     },
     "execution_count": 6,
     "metadata": {},
     "output_type": "execute_result"
    }
   ],
   "source": [
    "# total number of days between 2005 and 2010\n",
    "from datetime import datetime\n",
    "datetime.strptime(\"2010-04-16\", \"%Y-%m-%d\") - datetime.strptime(\"2005-01-01\", \"%Y-%m-%d\")"
   ]
  },
  {
   "cell_type": "markdown",
   "metadata": {},
   "source": [
    "There are 1,931 dates between 2005-01-01 and the max date in the time series data, which is 2010-04-16. Hence, I select all stations with (at least) 1931 rows."
   ]
  },
  {
   "cell_type": "code",
   "execution_count": 7,
   "metadata": {},
   "outputs": [
    {
     "name": "stderr",
     "output_type": "stream",
     "text": [
      "Query complete after 0.00s: 100%|██████████| 1/1 [00:00<00:00, 410.68query/s] \n",
      "Downloading: 100%|██████████| 200825/200825 [00:07<00:00, 28263.79rows/s]\n"
     ]
    }
   ],
   "source": [
    "%%bigquery weather\n",
    "SELECT DATE(year, month, day) as date, * EXCEPT(year, month, day), \n",
    "FROM `bigquery-public-data.samples.gsod`\n",
    "WHERE station_number IN (\n",
    "    SELECT station_number\n",
    "    FROM `bigquery-public-data.samples.gsod`\n",
    "    WHERE (year BETWEEN 2005 AND 2010)\n",
    "    GROUP BY station_number\n",
    "    HAVING COUNT(*) >= 1931\n",
    ") AND year BETWEEN 2005 AND 2010"
   ]
  },
  {
   "cell_type": "markdown",
   "metadata": {},
   "source": [
    "*Do a first analysis of the remaining dataset, clean or drop data depending on how you see appropriate.*"
   ]
  },
  {
   "cell_type": "code",
   "execution_count": 8,
   "metadata": {},
   "outputs": [],
   "source": [
    "# set date as index\n",
    "weather[\"date\"] = pd.to_datetime(weather[\"date\"])\n",
    "weather.set_index(\"date\", inplace=True)\n",
    "weather.sort_index(inplace=True)"
   ]
  },
  {
   "cell_type": "code",
   "execution_count": 9,
   "metadata": {},
   "outputs": [
    {
     "data": {
      "text/plain": [
       "1932"
      ]
     },
     "execution_count": 9,
     "metadata": {},
     "output_type": "execute_result"
    }
   ],
   "source": [
    "weather.groupby(\"station_number\").size().max()"
   ]
  },
  {
   "cell_type": "markdown",
   "metadata": {},
   "source": [
    "The max length of the time series for a station number is 1,932, however, should be 1,931. Taking a closer look:"
   ]
  },
  {
   "cell_type": "code",
   "execution_count": 10,
   "metadata": {},
   "outputs": [
    {
     "data": {
      "text/plain": [
       "array([702740])"
      ]
     },
     "execution_count": 10,
     "metadata": {},
     "output_type": "execute_result"
    }
   ],
   "source": [
    "weather.groupby(\"station_number\").filter(lambda x: len(x) > 1931)[\"station_number\"].unique()"
   ]
  },
  {
   "cell_type": "markdown",
   "metadata": {},
   "source": [
    "There is one station (702740) for which there are more than 1,931 dates. Check for duplicates:"
   ]
  },
  {
   "cell_type": "code",
   "execution_count": 11,
   "metadata": {},
   "outputs": [
    {
     "data": {
      "text/html": [
       "<div>\n",
       "<style scoped>\n",
       "    .dataframe tbody tr th:only-of-type {\n",
       "        vertical-align: middle;\n",
       "    }\n",
       "\n",
       "    .dataframe tbody tr th {\n",
       "        vertical-align: top;\n",
       "    }\n",
       "\n",
       "    .dataframe thead th {\n",
       "        text-align: right;\n",
       "    }\n",
       "</style>\n",
       "<table border=\"1\" class=\"dataframe\">\n",
       "  <thead>\n",
       "    <tr style=\"text-align: right;\">\n",
       "      <th></th>\n",
       "      <th>station_number</th>\n",
       "      <th>wban_number</th>\n",
       "      <th>mean_temp</th>\n",
       "      <th>num_mean_temp_samples</th>\n",
       "      <th>mean_dew_point</th>\n",
       "      <th>num_mean_dew_point_samples</th>\n",
       "      <th>mean_sealevel_pressure</th>\n",
       "      <th>num_mean_sealevel_pressure_samples</th>\n",
       "      <th>mean_station_pressure</th>\n",
       "      <th>num_mean_station_pressure_samples</th>\n",
       "      <th>...</th>\n",
       "      <th>min_temperature</th>\n",
       "      <th>min_temperature_explicit</th>\n",
       "      <th>total_precipitation</th>\n",
       "      <th>snow_depth</th>\n",
       "      <th>fog</th>\n",
       "      <th>rain</th>\n",
       "      <th>snow</th>\n",
       "      <th>hail</th>\n",
       "      <th>thunder</th>\n",
       "      <th>tornado</th>\n",
       "    </tr>\n",
       "    <tr>\n",
       "      <th>date</th>\n",
       "      <th></th>\n",
       "      <th></th>\n",
       "      <th></th>\n",
       "      <th></th>\n",
       "      <th></th>\n",
       "      <th></th>\n",
       "      <th></th>\n",
       "      <th></th>\n",
       "      <th></th>\n",
       "      <th></th>\n",
       "      <th></th>\n",
       "      <th></th>\n",
       "      <th></th>\n",
       "      <th></th>\n",
       "      <th></th>\n",
       "      <th></th>\n",
       "      <th></th>\n",
       "      <th></th>\n",
       "      <th></th>\n",
       "      <th></th>\n",
       "      <th></th>\n",
       "    </tr>\n",
       "  </thead>\n",
       "  <tbody>\n",
       "    <tr>\n",
       "      <th>2008-11-20</th>\n",
       "      <td>702740</td>\n",
       "      <td>99999</td>\n",
       "      <td>12.3</td>\n",
       "      <td>23</td>\n",
       "      <td>7.1</td>\n",
       "      <td>23.0</td>\n",
       "      <td>1008.400024</td>\n",
       "      <td>23.0</td>\n",
       "      <td>NaN</td>\n",
       "      <td>NaN</td>\n",
       "      <td>...</td>\n",
       "      <td>NaN</td>\n",
       "      <td>None</td>\n",
       "      <td>0.0</td>\n",
       "      <td>2.0</td>\n",
       "      <td>False</td>\n",
       "      <td>False</td>\n",
       "      <td>False</td>\n",
       "      <td>False</td>\n",
       "      <td>False</td>\n",
       "      <td>False</td>\n",
       "    </tr>\n",
       "  </tbody>\n",
       "</table>\n",
       "<p>1 rows × 28 columns</p>\n",
       "</div>"
      ],
      "text/plain": [
       "            station_number  wban_number  mean_temp  num_mean_temp_samples  \\\n",
       "date                                                                        \n",
       "2008-11-20          702740        99999       12.3                     23   \n",
       "\n",
       "            mean_dew_point  num_mean_dew_point_samples  \\\n",
       "date                                                     \n",
       "2008-11-20             7.1                        23.0   \n",
       "\n",
       "            mean_sealevel_pressure  num_mean_sealevel_pressure_samples  \\\n",
       "date                                                                     \n",
       "2008-11-20             1008.400024                                23.0   \n",
       "\n",
       "            mean_station_pressure  num_mean_station_pressure_samples  ...  \\\n",
       "date                                                                  ...   \n",
       "2008-11-20                    NaN                                NaN  ...   \n",
       "\n",
       "            min_temperature  min_temperature_explicit  total_precipitation  \\\n",
       "date                                                                         \n",
       "2008-11-20              NaN                      None                  0.0   \n",
       "\n",
       "            snow_depth    fog   rain   snow   hail  thunder tornado  \n",
       "date                                                                 \n",
       "2008-11-20         2.0  False  False  False  False    False   False  \n",
       "\n",
       "[1 rows x 28 columns]"
      ]
     },
     "execution_count": 11,
     "metadata": {},
     "output_type": "execute_result"
    }
   ],
   "source": [
    "is_dupl = weather.loc[weather[\"station_number\"] == 702740].index.duplicated()\n",
    "weather.loc[weather[\"station_number\"] == 702740][is_dupl]"
   ]
  },
  {
   "cell_type": "markdown",
   "metadata": {},
   "source": [
    "Look at duplicated rows/dates:"
   ]
  },
  {
   "cell_type": "code",
   "execution_count": 12,
   "metadata": {},
   "outputs": [
    {
     "data": {
      "text/html": [
       "<div>\n",
       "<style scoped>\n",
       "    .dataframe tbody tr th:only-of-type {\n",
       "        vertical-align: middle;\n",
       "    }\n",
       "\n",
       "    .dataframe tbody tr th {\n",
       "        vertical-align: top;\n",
       "    }\n",
       "\n",
       "    .dataframe thead th {\n",
       "        text-align: right;\n",
       "    }\n",
       "</style>\n",
       "<table border=\"1\" class=\"dataframe\">\n",
       "  <thead>\n",
       "    <tr style=\"text-align: right;\">\n",
       "      <th></th>\n",
       "      <th>station_number</th>\n",
       "      <th>wban_number</th>\n",
       "      <th>mean_temp</th>\n",
       "      <th>num_mean_temp_samples</th>\n",
       "      <th>mean_dew_point</th>\n",
       "      <th>num_mean_dew_point_samples</th>\n",
       "      <th>mean_sealevel_pressure</th>\n",
       "      <th>num_mean_sealevel_pressure_samples</th>\n",
       "      <th>mean_station_pressure</th>\n",
       "      <th>num_mean_station_pressure_samples</th>\n",
       "      <th>...</th>\n",
       "      <th>min_temperature</th>\n",
       "      <th>min_temperature_explicit</th>\n",
       "      <th>total_precipitation</th>\n",
       "      <th>snow_depth</th>\n",
       "      <th>fog</th>\n",
       "      <th>rain</th>\n",
       "      <th>snow</th>\n",
       "      <th>hail</th>\n",
       "      <th>thunder</th>\n",
       "      <th>tornado</th>\n",
       "    </tr>\n",
       "    <tr>\n",
       "      <th>date</th>\n",
       "      <th></th>\n",
       "      <th></th>\n",
       "      <th></th>\n",
       "      <th></th>\n",
       "      <th></th>\n",
       "      <th></th>\n",
       "      <th></th>\n",
       "      <th></th>\n",
       "      <th></th>\n",
       "      <th></th>\n",
       "      <th></th>\n",
       "      <th></th>\n",
       "      <th></th>\n",
       "      <th></th>\n",
       "      <th></th>\n",
       "      <th></th>\n",
       "      <th></th>\n",
       "      <th></th>\n",
       "      <th></th>\n",
       "      <th></th>\n",
       "      <th></th>\n",
       "    </tr>\n",
       "  </thead>\n",
       "  <tbody>\n",
       "    <tr>\n",
       "      <th>2008-11-20</th>\n",
       "      <td>702740</td>\n",
       "      <td>25331</td>\n",
       "      <td>12.3</td>\n",
       "      <td>23</td>\n",
       "      <td>7.1</td>\n",
       "      <td>23.0</td>\n",
       "      <td>1008.400024</td>\n",
       "      <td>23.0</td>\n",
       "      <td>NaN</td>\n",
       "      <td>NaN</td>\n",
       "      <td>...</td>\n",
       "      <td>NaN</td>\n",
       "      <td>None</td>\n",
       "      <td>0.0</td>\n",
       "      <td>2.0</td>\n",
       "      <td>False</td>\n",
       "      <td>False</td>\n",
       "      <td>False</td>\n",
       "      <td>False</td>\n",
       "      <td>False</td>\n",
       "      <td>False</td>\n",
       "    </tr>\n",
       "    <tr>\n",
       "      <th>2008-11-20</th>\n",
       "      <td>702740</td>\n",
       "      <td>99999</td>\n",
       "      <td>12.3</td>\n",
       "      <td>23</td>\n",
       "      <td>7.1</td>\n",
       "      <td>23.0</td>\n",
       "      <td>1008.400024</td>\n",
       "      <td>23.0</td>\n",
       "      <td>NaN</td>\n",
       "      <td>NaN</td>\n",
       "      <td>...</td>\n",
       "      <td>NaN</td>\n",
       "      <td>None</td>\n",
       "      <td>0.0</td>\n",
       "      <td>2.0</td>\n",
       "      <td>False</td>\n",
       "      <td>False</td>\n",
       "      <td>False</td>\n",
       "      <td>False</td>\n",
       "      <td>False</td>\n",
       "      <td>False</td>\n",
       "    </tr>\n",
       "  </tbody>\n",
       "</table>\n",
       "<p>2 rows × 28 columns</p>\n",
       "</div>"
      ],
      "text/plain": [
       "            station_number  wban_number  mean_temp  num_mean_temp_samples  \\\n",
       "date                                                                        \n",
       "2008-11-20          702740        25331       12.3                     23   \n",
       "2008-11-20          702740        99999       12.3                     23   \n",
       "\n",
       "            mean_dew_point  num_mean_dew_point_samples  \\\n",
       "date                                                     \n",
       "2008-11-20             7.1                        23.0   \n",
       "2008-11-20             7.1                        23.0   \n",
       "\n",
       "            mean_sealevel_pressure  num_mean_sealevel_pressure_samples  \\\n",
       "date                                                                     \n",
       "2008-11-20             1008.400024                                23.0   \n",
       "2008-11-20             1008.400024                                23.0   \n",
       "\n",
       "            mean_station_pressure  num_mean_station_pressure_samples  ...  \\\n",
       "date                                                                  ...   \n",
       "2008-11-20                    NaN                                NaN  ...   \n",
       "2008-11-20                    NaN                                NaN  ...   \n",
       "\n",
       "            min_temperature  min_temperature_explicit  total_precipitation  \\\n",
       "date                                                                         \n",
       "2008-11-20              NaN                      None                  0.0   \n",
       "2008-11-20              NaN                      None                  0.0   \n",
       "\n",
       "            snow_depth    fog   rain   snow   hail  thunder tornado  \n",
       "date                                                                 \n",
       "2008-11-20         2.0  False  False  False  False    False   False  \n",
       "2008-11-20         2.0  False  False  False  False    False   False  \n",
       "\n",
       "[2 rows x 28 columns]"
      ]
     },
     "execution_count": 12,
     "metadata": {},
     "output_type": "execute_result"
    }
   ],
   "source": [
    "dupl_date = weather.loc[weather[\"station_number\"] == 702740][is_dupl].index\n",
    "weather.loc[weather[\"station_number\"] == 702740].loc[dupl_date]"
   ]
  },
  {
   "cell_type": "markdown",
   "metadata": {},
   "source": [
    "Duplicate entries for 2008-11-20. Both entries are identical except the wban_number variable. Since wban_number is just another identifier and hence does probably not contain information about whether it will be snowing or not, I drop this column and remove the duplicate row."
   ]
  },
  {
   "cell_type": "code",
   "execution_count": 13,
   "metadata": {},
   "outputs": [],
   "source": [
    "weather.drop(columns=\"wban_number\", inplace=True)\n",
    "weather.drop_duplicates(inplace=True)"
   ]
  },
  {
   "cell_type": "code",
   "execution_count": 14,
   "metadata": {},
   "outputs": [
    {
     "data": {
      "text/plain": [
       "1931    103\n",
       "1930      1\n",
       "dtype: int64"
      ]
     },
     "execution_count": 14,
     "metadata": {},
     "output_type": "execute_result"
    }
   ],
   "source": [
    "weather.groupby(\"station_number\").size().value_counts()"
   ]
  },
  {
   "cell_type": "markdown",
   "metadata": {},
   "source": [
    "After dropping the duplicated rows, there is one station_number for which there are only 1,930 data points instead of 1,931. For simplicity reasons, I will drop this station from the data, the alternative would be add the missing date and impute with meaningful information, e.g. mean value for same date from remaining years."
   ]
  },
  {
   "cell_type": "code",
   "execution_count": 15,
   "metadata": {},
   "outputs": [
    {
     "data": {
      "text/plain": [
       "array([723700])"
      ]
     },
     "execution_count": 15,
     "metadata": {},
     "output_type": "execute_result"
    }
   ],
   "source": [
    "# find the station number for which there are 1930 only\n",
    "weather.groupby(\"station_number\").filter(lambda x: len(x) == 1930)[\"station_number\"].unique() "
   ]
  },
  {
   "cell_type": "code",
   "execution_count": 16,
   "metadata": {},
   "outputs": [],
   "source": [
    "#drop the station 723700\n",
    "weather = weather[weather.station_number != 723700]"
   ]
  },
  {
   "cell_type": "markdown",
   "metadata": {},
   "source": [
    "### Inspecting Columns:"
   ]
  },
  {
   "cell_type": "markdown",
   "metadata": {},
   "source": [
    "First, I look at the distribution of the data:"
   ]
  },
  {
   "cell_type": "code",
   "execution_count": 17,
   "metadata": {},
   "outputs": [
    {
     "data": {
      "text/html": [
       "<div>\n",
       "<style scoped>\n",
       "    .dataframe tbody tr th:only-of-type {\n",
       "        vertical-align: middle;\n",
       "    }\n",
       "\n",
       "    .dataframe tbody tr th {\n",
       "        vertical-align: top;\n",
       "    }\n",
       "\n",
       "    .dataframe thead th {\n",
       "        text-align: right;\n",
       "    }\n",
       "</style>\n",
       "<table border=\"1\" class=\"dataframe\">\n",
       "  <thead>\n",
       "    <tr style=\"text-align: right;\">\n",
       "      <th></th>\n",
       "      <th>station_number</th>\n",
       "      <th>mean_temp</th>\n",
       "      <th>num_mean_temp_samples</th>\n",
       "      <th>mean_dew_point</th>\n",
       "      <th>num_mean_dew_point_samples</th>\n",
       "      <th>mean_sealevel_pressure</th>\n",
       "      <th>num_mean_sealevel_pressure_samples</th>\n",
       "      <th>mean_station_pressure</th>\n",
       "      <th>num_mean_station_pressure_samples</th>\n",
       "      <th>mean_visibility</th>\n",
       "      <th>num_mean_visibility_samples</th>\n",
       "      <th>mean_wind_speed</th>\n",
       "      <th>num_mean_wind_speed_samples</th>\n",
       "      <th>max_sustained_wind_speed</th>\n",
       "      <th>max_gust_wind_speed</th>\n",
       "      <th>max_temperature</th>\n",
       "      <th>min_temperature</th>\n",
       "      <th>total_precipitation</th>\n",
       "      <th>snow_depth</th>\n",
       "    </tr>\n",
       "  </thead>\n",
       "  <tbody>\n",
       "    <tr>\n",
       "      <th>count</th>\n",
       "      <td>198893.000000</td>\n",
       "      <td>198893.000000</td>\n",
       "      <td>198893.000000</td>\n",
       "      <td>198645.000000</td>\n",
       "      <td>198645.000000</td>\n",
       "      <td>179050.000000</td>\n",
       "      <td>179050.000000</td>\n",
       "      <td>14683.000000</td>\n",
       "      <td>14683.000000</td>\n",
       "      <td>198887.000000</td>\n",
       "      <td>198887.000000</td>\n",
       "      <td>198874.000000</td>\n",
       "      <td>198874.000000</td>\n",
       "      <td>198558.000000</td>\n",
       "      <td>109206.000000</td>\n",
       "      <td>198884.000000</td>\n",
       "      <td>0.0</td>\n",
       "      <td>191736.000000</td>\n",
       "      <td>8320.000000</td>\n",
       "    </tr>\n",
       "    <tr>\n",
       "      <th>mean</th>\n",
       "      <td>720904.339806</td>\n",
       "      <td>55.437636</td>\n",
       "      <td>23.681381</td>\n",
       "      <td>42.339489</td>\n",
       "      <td>23.666677</td>\n",
       "      <td>1015.304899</td>\n",
       "      <td>22.313734</td>\n",
       "      <td>996.566948</td>\n",
       "      <td>21.682490</td>\n",
       "      <td>9.024003</td>\n",
       "      <td>23.678084</td>\n",
       "      <td>6.774072</td>\n",
       "      <td>23.653524</td>\n",
       "      <td>13.586315</td>\n",
       "      <td>23.099390</td>\n",
       "      <td>45.699631</td>\n",
       "      <td>NaN</td>\n",
       "      <td>0.084013</td>\n",
       "      <td>10.529760</td>\n",
       "    </tr>\n",
       "    <tr>\n",
       "      <th>std</th>\n",
       "      <td>6991.174501</td>\n",
       "      <td>20.177197</td>\n",
       "      <td>1.357134</td>\n",
       "      <td>19.322326</td>\n",
       "      <td>1.403610</td>\n",
       "      <td>7.792030</td>\n",
       "      <td>2.777258</td>\n",
       "      <td>26.399898</td>\n",
       "      <td>5.669421</td>\n",
       "      <td>1.826860</td>\n",
       "      <td>1.362635</td>\n",
       "      <td>3.762625</td>\n",
       "      <td>1.433375</td>\n",
       "      <td>5.552701</td>\n",
       "      <td>6.837255</td>\n",
       "      <td>19.985253</td>\n",
       "      <td>NaN</td>\n",
       "      <td>0.294973</td>\n",
       "      <td>10.552072</td>\n",
       "    </tr>\n",
       "    <tr>\n",
       "      <th>min</th>\n",
       "      <td>701740.000000</td>\n",
       "      <td>-55.200001</td>\n",
       "      <td>4.000000</td>\n",
       "      <td>-37.599998</td>\n",
       "      <td>4.000000</td>\n",
       "      <td>960.500000</td>\n",
       "      <td>4.000000</td>\n",
       "      <td>756.700012</td>\n",
       "      <td>4.000000</td>\n",
       "      <td>0.100000</td>\n",
       "      <td>4.000000</td>\n",
       "      <td>0.000000</td>\n",
       "      <td>4.000000</td>\n",
       "      <td>1.900000</td>\n",
       "      <td>9.900000</td>\n",
       "      <td>-56.900002</td>\n",
       "      <td>NaN</td>\n",
       "      <td>0.000000</td>\n",
       "      <td>1.200000</td>\n",
       "    </tr>\n",
       "    <tr>\n",
       "      <th>25%</th>\n",
       "      <td>722140.000000</td>\n",
       "      <td>42.700001</td>\n",
       "      <td>24.000000</td>\n",
       "      <td>28.799999</td>\n",
       "      <td>24.000000</td>\n",
       "      <td>1011.500000</td>\n",
       "      <td>22.000000</td>\n",
       "      <td>987.099976</td>\n",
       "      <td>23.000000</td>\n",
       "      <td>8.500000</td>\n",
       "      <td>24.000000</td>\n",
       "      <td>4.100000</td>\n",
       "      <td>24.000000</td>\n",
       "      <td>9.900000</td>\n",
       "      <td>18.100000</td>\n",
       "      <td>33.099998</td>\n",
       "      <td>NaN</td>\n",
       "      <td>0.000000</td>\n",
       "      <td>2.000000</td>\n",
       "    </tr>\n",
       "    <tr>\n",
       "      <th>50%</th>\n",
       "      <td>722976.000000</td>\n",
       "      <td>57.900002</td>\n",
       "      <td>24.000000</td>\n",
       "      <td>44.400002</td>\n",
       "      <td>24.000000</td>\n",
       "      <td>1015.599976</td>\n",
       "      <td>24.000000</td>\n",
       "      <td>1002.200012</td>\n",
       "      <td>24.000000</td>\n",
       "      <td>9.800000</td>\n",
       "      <td>24.000000</td>\n",
       "      <td>6.100000</td>\n",
       "      <td>24.000000</td>\n",
       "      <td>13.000000</td>\n",
       "      <td>22.000000</td>\n",
       "      <td>48.000000</td>\n",
       "      <td>NaN</td>\n",
       "      <td>0.000000</td>\n",
       "      <td>7.100000</td>\n",
       "    </tr>\n",
       "    <tr>\n",
       "      <th>75%</th>\n",
       "      <td>724640.000000</td>\n",
       "      <td>71.000000</td>\n",
       "      <td>24.000000</td>\n",
       "      <td>57.400002</td>\n",
       "      <td>24.000000</td>\n",
       "      <td>1019.799988</td>\n",
       "      <td>24.000000</td>\n",
       "      <td>1012.799988</td>\n",
       "      <td>24.000000</td>\n",
       "      <td>10.000000</td>\n",
       "      <td>24.000000</td>\n",
       "      <td>8.700000</td>\n",
       "      <td>24.000000</td>\n",
       "      <td>16.900000</td>\n",
       "      <td>27.000000</td>\n",
       "      <td>60.799999</td>\n",
       "      <td>NaN</td>\n",
       "      <td>0.010000</td>\n",
       "      <td>15.000000</td>\n",
       "    </tr>\n",
       "    <tr>\n",
       "      <th>max</th>\n",
       "      <td>725260.000000</td>\n",
       "      <td>105.599998</td>\n",
       "      <td>24.000000</td>\n",
       "      <td>80.099998</td>\n",
       "      <td>24.000000</td>\n",
       "      <td>1048.699951</td>\n",
       "      <td>24.000000</td>\n",
       "      <td>1039.199951</td>\n",
       "      <td>24.000000</td>\n",
       "      <td>63.799999</td>\n",
       "      <td>24.000000</td>\n",
       "      <td>41.000000</td>\n",
       "      <td>24.000000</td>\n",
       "      <td>64.900002</td>\n",
       "      <td>87.000000</td>\n",
       "      <td>95.000000</td>\n",
       "      <td>NaN</td>\n",
       "      <td>10.310000</td>\n",
       "      <td>79.900002</td>\n",
       "    </tr>\n",
       "  </tbody>\n",
       "</table>\n",
       "</div>"
      ],
      "text/plain": [
       "       station_number      mean_temp  num_mean_temp_samples  mean_dew_point  \\\n",
       "count   198893.000000  198893.000000          198893.000000   198645.000000   \n",
       "mean    720904.339806      55.437636              23.681381       42.339489   \n",
       "std       6991.174501      20.177197               1.357134       19.322326   \n",
       "min     701740.000000     -55.200001               4.000000      -37.599998   \n",
       "25%     722140.000000      42.700001              24.000000       28.799999   \n",
       "50%     722976.000000      57.900002              24.000000       44.400002   \n",
       "75%     724640.000000      71.000000              24.000000       57.400002   \n",
       "max     725260.000000     105.599998              24.000000       80.099998   \n",
       "\n",
       "       num_mean_dew_point_samples  mean_sealevel_pressure  \\\n",
       "count               198645.000000           179050.000000   \n",
       "mean                    23.666677             1015.304899   \n",
       "std                      1.403610                7.792030   \n",
       "min                      4.000000              960.500000   \n",
       "25%                     24.000000             1011.500000   \n",
       "50%                     24.000000             1015.599976   \n",
       "75%                     24.000000             1019.799988   \n",
       "max                     24.000000             1048.699951   \n",
       "\n",
       "       num_mean_sealevel_pressure_samples  mean_station_pressure  \\\n",
       "count                       179050.000000           14683.000000   \n",
       "mean                            22.313734             996.566948   \n",
       "std                              2.777258              26.399898   \n",
       "min                              4.000000             756.700012   \n",
       "25%                             22.000000             987.099976   \n",
       "50%                             24.000000            1002.200012   \n",
       "75%                             24.000000            1012.799988   \n",
       "max                             24.000000            1039.199951   \n",
       "\n",
       "       num_mean_station_pressure_samples  mean_visibility  \\\n",
       "count                       14683.000000    198887.000000   \n",
       "mean                           21.682490         9.024003   \n",
       "std                             5.669421         1.826860   \n",
       "min                             4.000000         0.100000   \n",
       "25%                            23.000000         8.500000   \n",
       "50%                            24.000000         9.800000   \n",
       "75%                            24.000000        10.000000   \n",
       "max                            24.000000        63.799999   \n",
       "\n",
       "       num_mean_visibility_samples  mean_wind_speed  \\\n",
       "count                198887.000000    198874.000000   \n",
       "mean                     23.678084         6.774072   \n",
       "std                       1.362635         3.762625   \n",
       "min                       4.000000         0.000000   \n",
       "25%                      24.000000         4.100000   \n",
       "50%                      24.000000         6.100000   \n",
       "75%                      24.000000         8.700000   \n",
       "max                      24.000000        41.000000   \n",
       "\n",
       "       num_mean_wind_speed_samples  max_sustained_wind_speed  \\\n",
       "count                198874.000000             198558.000000   \n",
       "mean                     23.653524                 13.586315   \n",
       "std                       1.433375                  5.552701   \n",
       "min                       4.000000                  1.900000   \n",
       "25%                      24.000000                  9.900000   \n",
       "50%                      24.000000                 13.000000   \n",
       "75%                      24.000000                 16.900000   \n",
       "max                      24.000000                 64.900002   \n",
       "\n",
       "       max_gust_wind_speed  max_temperature  min_temperature  \\\n",
       "count        109206.000000    198884.000000              0.0   \n",
       "mean             23.099390        45.699631              NaN   \n",
       "std               6.837255        19.985253              NaN   \n",
       "min               9.900000       -56.900002              NaN   \n",
       "25%              18.100000        33.099998              NaN   \n",
       "50%              22.000000        48.000000              NaN   \n",
       "75%              27.000000        60.799999              NaN   \n",
       "max              87.000000        95.000000              NaN   \n",
       "\n",
       "       total_precipitation   snow_depth  \n",
       "count        191736.000000  8320.000000  \n",
       "mean              0.084013    10.529760  \n",
       "std               0.294973    10.552072  \n",
       "min               0.000000     1.200000  \n",
       "25%               0.000000     2.000000  \n",
       "50%               0.000000     7.100000  \n",
       "75%               0.010000    15.000000  \n",
       "max              10.310000    79.900002  "
      ]
     },
     "execution_count": 17,
     "metadata": {},
     "output_type": "execute_result"
    }
   ],
   "source": [
    "weather.describe()"
   ]
  },
  {
   "cell_type": "markdown",
   "metadata": {},
   "source": [
    "There are no obviously faulty entries at the first look, like for example missing values tagged as -9999. I now take a look at missing values:"
   ]
  },
  {
   "cell_type": "code",
   "execution_count": 18,
   "metadata": {},
   "outputs": [
    {
     "data": {
      "text/plain": [
       "station_number                          0.0\n",
       "mean_temp                               0.0\n",
       "num_mean_temp_samples                   0.0\n",
       "mean_dew_point                          0.1\n",
       "num_mean_dew_point_samples              0.1\n",
       "mean_sealevel_pressure                 10.0\n",
       "num_mean_sealevel_pressure_samples     10.0\n",
       "mean_station_pressure                  92.6\n",
       "num_mean_station_pressure_samples      92.6\n",
       "mean_visibility                         0.0\n",
       "num_mean_visibility_samples             0.0\n",
       "mean_wind_speed                         0.0\n",
       "num_mean_wind_speed_samples             0.0\n",
       "max_sustained_wind_speed                0.2\n",
       "max_gust_wind_speed                    45.1\n",
       "max_temperature                         0.0\n",
       "max_temperature_explicit                0.0\n",
       "min_temperature                       100.0\n",
       "min_temperature_explicit              100.0\n",
       "total_precipitation                     3.6\n",
       "snow_depth                             95.8\n",
       "fog                                     0.0\n",
       "rain                                    0.0\n",
       "snow                                    0.0\n",
       "hail                                    0.0\n",
       "thunder                                 0.0\n",
       "tornado                                 0.0\n",
       "dtype: float64"
      ]
     },
     "execution_count": 18,
     "metadata": {},
     "output_type": "execute_result"
    }
   ],
   "source": [
    "missings = weather.isna().sum()\n",
    "miss_perc = missings / len(weather) * 100\n",
    "round(miss_perc, 1)"
   ]
  },
  {
   "cell_type": "markdown",
   "metadata": {},
   "source": [
    "Looking at the above output one can see that there are mostly missing values for the variables \"mean_station_pressure\", \"num_mean_station_pressure_samples\", \"max_gust_wind_speed\", \"min_temperature\", \"min_temperature_explicit\", \"snow_depth\" hence I drop these columns entirely."
   ]
  },
  {
   "cell_type": "code",
   "execution_count": 19,
   "metadata": {},
   "outputs": [],
   "source": [
    "weather = weather.drop(columns=[\"mean_station_pressure\", \"num_mean_station_pressure_samples\", \"max_gust_wind_speed\", \"min_temperature\", \"min_temperature_explicit\", \"snow_depth\"])"
   ]
  },
  {
   "cell_type": "markdown",
   "metadata": {},
   "source": [
    "From the [documentation for the data](https://console.cloud.google.com/bigquery?p=bigquery-public-data&d=samples&t=gsod&page=table&hl=de&_ga=2.212216276.1106550381.1617978275-448503843.1614889316&project=sl-ds-coding-challenge), we can identify further variables, who do not provide information for forecasting snow:\n",
    "- *num_mean_temp_samples*: The number of observations used to calculate mean_temp.\n",
    "- *num_mean_dew_point_samples*: The number of observations used to calculate mean_dew_point.\n",
    "- *num_mean_sealevel_pressure*: The number of observations used to calculate mean_sealevel_pressure.\n",
    "- *num_mean_visibility*: The number of observations used to calculate mean_visibility.\n",
    "- *num_mean_wind_speed_samples*: The number of observations used to calculate mean_wind_speed.\n",
    "- *max_temperature_explicit:* Indicates the source of max_temperature\n",
    "\n",
    "Moreover, these variables do not contain much variation anyway:"
   ]
  },
  {
   "cell_type": "code",
   "execution_count": 20,
   "metadata": {},
   "outputs": [
    {
     "name": "stdout",
     "output_type": "stream",
     "text": [
      "Variable name: num_mean_temp_samples\n",
      "24    0.881419\n",
      "23    0.065915\n",
      "22    0.019216\n",
      "21    0.009110\n",
      "20    0.005324\n",
      "19    0.003007\n",
      "17    0.002680\n",
      "18    0.002544\n",
      "15    0.002257\n",
      "16    0.002217\n",
      "14    0.001609\n",
      "12    0.001207\n",
      "13    0.001001\n",
      "9     0.000709\n",
      "10    0.000659\n",
      "11    0.000573\n",
      "8     0.000176\n",
      "7     0.000156\n",
      "6     0.000085\n",
      "5     0.000070\n",
      "4     0.000065\n",
      "Name: num_mean_temp_samples, dtype: float64\n",
      "Variable name: num_mean_dew_point_samples\n",
      "24.0    0.878457\n",
      "23.0    0.066737\n",
      "22.0    0.019598\n",
      "21.0    0.009489\n",
      "20.0    0.005583\n",
      "19.0    0.003217\n",
      "17.0    0.002754\n",
      "18.0    0.002708\n",
      "16.0    0.002336\n",
      "15.0    0.002311\n",
      "14.0    0.001686\n",
      "12.0    0.001299\n",
      "13.0    0.001042\n",
      "9.0     0.000740\n",
      "10.0    0.000700\n",
      "11.0    0.000619\n",
      "8.0     0.000247\n",
      "7.0     0.000181\n",
      "6.0     0.000116\n",
      "5.0     0.000096\n",
      "4.0     0.000086\n",
      "Name: num_mean_dew_point_samples, dtype: float64\n",
      "Variable name: num_mean_sealevel_pressure_samples\n",
      "24.0    0.542318\n",
      "23.0    0.132399\n",
      "22.0    0.084423\n",
      "21.0    0.061229\n",
      "20.0    0.045747\n",
      "19.0    0.034867\n",
      "18.0    0.026116\n",
      "17.0    0.020464\n",
      "16.0    0.014895\n",
      "15.0    0.010801\n",
      "14.0    0.007607\n",
      "13.0    0.005194\n",
      "12.0    0.004362\n",
      "11.0    0.002904\n",
      "10.0    0.002251\n",
      "9.0     0.001720\n",
      "8.0     0.000843\n",
      "7.0     0.000681\n",
      "6.0     0.000626\n",
      "5.0     0.000313\n",
      "4.0     0.000240\n",
      "Name: num_mean_sealevel_pressure_samples, dtype: float64\n",
      "Variable name: num_mean_visibility_samples\n",
      "24.0    0.880103\n",
      "23.0    0.066530\n",
      "22.0    0.019599\n",
      "21.0    0.009221\n",
      "20.0    0.005395\n",
      "19.0    0.003007\n",
      "17.0    0.002710\n",
      "18.0    0.002529\n",
      "16.0    0.002273\n",
      "15.0    0.002273\n",
      "14.0    0.001629\n",
      "12.0    0.001187\n",
      "13.0    0.001011\n",
      "9.0     0.000719\n",
      "10.0    0.000669\n",
      "11.0    0.000593\n",
      "8.0     0.000186\n",
      "7.0     0.000146\n",
      "6.0     0.000091\n",
      "5.0     0.000075\n",
      "4.0     0.000055\n",
      "Name: num_mean_visibility_samples, dtype: float64\n",
      "Variable name: num_mean_wind_speed_samples\n",
      "24.0    0.874679\n",
      "23.0    0.068757\n",
      "22.0    0.020254\n",
      "21.0    0.009529\n",
      "20.0    0.005566\n",
      "19.0    0.003148\n",
      "17.0    0.002926\n",
      "16.0    0.002801\n",
      "18.0    0.002670\n",
      "15.0    0.002539\n",
      "14.0    0.001855\n",
      "12.0    0.001302\n",
      "13.0    0.001162\n",
      "10.0    0.000774\n",
      "9.0     0.000754\n",
      "11.0    0.000603\n",
      "8.0     0.000201\n",
      "7.0     0.000186\n",
      "6.0     0.000111\n",
      "5.0     0.000096\n",
      "4.0     0.000085\n",
      "Name: num_mean_wind_speed_samples, dtype: float64\n"
     ]
    }
   ],
   "source": [
    "cols = [name for name in weather.columns if 'num_' in name]\n",
    "for col in cols:\n",
    "    print(\"Variable name: {}\".format(col))\n",
    "    print(weather[col].value_counts(normalize=True))"
   ]
  },
  {
   "cell_type": "code",
   "execution_count": 21,
   "metadata": {},
   "outputs": [],
   "source": [
    "# drop columns\n",
    "weather = weather.drop(columns = cols)\n",
    "weather = weather.drop(columns = \"max_temperature_explicit\")"
   ]
  },
  {
   "cell_type": "markdown",
   "metadata": {},
   "source": [
    "## Correlation between Variables and Target"
   ]
  },
  {
   "cell_type": "code",
   "execution_count": 26,
   "metadata": {},
   "outputs": [],
   "source": [
    "import matplotlib.pyplot as plt\n",
    "import seaborn as sns"
   ]
  },
  {
   "cell_type": "code",
   "execution_count": 27,
   "metadata": {},
   "outputs": [
    {
     "data": {
      "image/png": "[encoded data removed]",
      "text/plain": [
       "<Figure size 1152x864 with 2 Axes>"
      ]
     },
     "metadata": {
      "needs_background": "light"
     },
     "output_type": "display_data"
    }
   ],
   "source": [
    "corrMat = weather.corr() # calculate correlation matrix\n",
    "mask = np.triu(np.ones_like(corrMat, dtype=bool))\n",
    "plt.figure(figsize=(16, 12))\n",
    "\n",
    "# custom palette\n",
    "cmap = sns.diverging_palette(250, 15, s=75, l=40,\n",
    "                             n=9, center=\"light\", as_cmap=True)\n",
    "\n",
    "# create correlation plot\n",
    "sns.heatmap(corrMat, mask=mask, center=0, annot=True,\n",
    "             fmt='.2f', square=True, cmap=cmap)\n",
    "# show plot\n",
    "plt.show()"
   ]
  },
  {
   "cell_type": "code",
   "execution_count": 28,
   "metadata": {},
   "outputs": [
    {
     "name": "stdout",
     "output_type": "stream",
     "text": [
      "0\n",
      "0\n",
      "0\n",
      "0\n",
      "0\n"
     ]
    }
   ],
   "source": [
    "for col in [\"fog\", \"rain\", \"hail\", \"thunder\", \"tornado\"]:\n",
    "    print(sum(weather.snow != weather[col]))"
   ]
  },
  {
   "cell_type": "markdown",
   "metadata": {},
   "source": [
    "The binary variables indicating snow, rain, hail, thunder, and tornado are perfectly multicollinear. Since this leads to the fact that predicting whether it snows is exactly the same problem as predicting whether it rains, whether there is hail, etc. I remove these binary variables from the dataset as well."
   ]
  },
  {
   "cell_type": "code",
   "execution_count": 29,
   "metadata": {},
   "outputs": [],
   "source": [
    "weather = weather.drop(columns=[\"fog\", \"rain\", \"hail\", \"thunder\", \"tornado\"])"
   ]
  },
  {
   "cell_type": "code",
   "execution_count": 30,
   "metadata": {},
   "outputs": [
    {
     "data": {
      "image/png": "[encoded data removed]",
      "text/plain": [
       "<Figure size 1152x864 with 2 Axes>"
      ]
     },
     "metadata": {
      "needs_background": "light"
     },
     "output_type": "display_data"
    }
   ],
   "source": [
    "# repeating the correlation matrix\n",
    "corrMat = weather.corr() # calculate correlation matrix\n",
    "mask = np.triu(np.ones_like(corrMat, dtype=bool))\n",
    "plt.figure(figsize=(16, 12))\n",
    "\n",
    "# custom palette\n",
    "cmap = sns.diverging_palette(250, 15, s=75, l=40,\n",
    "                             n=9, center=\"light\", as_cmap=True)\n",
    "\n",
    "# create correlation plot\n",
    "sns.heatmap(corrMat, mask=mask, center=0, annot=True,\n",
    "             fmt='.2f', square=True, cmap=cmap)\n",
    "# show plot\n",
    "plt.show()"
   ]
  },
  {
   "cell_type": "markdown",
   "metadata": {},
   "source": [
    "We furthermore see that mean_temp and max_temperature are highly correlated with a correlation coefficient of 0.97. Moreover, when taking a closer look at both variables, a kind of strange picture emerges: "
   ]
  },
  {
   "cell_type": "code",
   "execution_count": 31,
   "metadata": {},
   "outputs": [
    {
     "data": {
      "text/plain": [
       "0.9998793321031911"
      ]
     },
     "execution_count": 31,
     "metadata": {},
     "output_type": "execute_result"
    }
   ],
   "source": [
    "sum(weather.mean_temp > weather.max_temperature) / len(weather)"
   ]
  },
  {
   "cell_type": "markdown",
   "metadata": {},
   "source": [
    "The mean temperature is higher than the max temperature for almost all entries in the data. A look in the data description reveals the following: `The time that this value is reported differs by country and region, so this value will sometimes not be the maximum for the calendar day.`. Moreover, it is reasonable to assume that the max temperature does not contain as much information about whether it may snow as the mean temperature. Hence, the max_temperature variable is dropped as well."
   ]
  },
  {
   "cell_type": "code",
   "execution_count": 32,
   "metadata": {},
   "outputs": [],
   "source": [
    "weather = weather.drop(columns=[\"max_temperature\"])"
   ]
  },
  {
   "cell_type": "code",
   "execution_count": 33,
   "metadata": {},
   "outputs": [
    {
     "data": {
      "image/png": "[encoded data removed]",
      "text/plain": [
       "<Figure size 1152x864 with 2 Axes>"
      ]
     },
     "metadata": {
      "needs_background": "light"
     },
     "output_type": "display_data"
    }
   ],
   "source": [
    "# repeating the correlation matrix\n",
    "corrMat = weather.corr() # calculate correlation matrix\n",
    "mask = np.triu(np.ones_like(corrMat, dtype=bool))\n",
    "plt.figure(figsize=(16, 12))\n",
    "\n",
    "# custom palette\n",
    "cmap = sns.diverging_palette(250, 15, s=75, l=40,\n",
    "                             n=9, center=\"light\", as_cmap=True)\n",
    "\n",
    "# create correlation plot\n",
    "sns.heatmap(corrMat, mask=mask, center=0, annot=True,\n",
    "             fmt='.2f', square=True, cmap=cmap)\n",
    "# show plot\n",
    "plt.show()"
   ]
  },
  {
   "cell_type": "markdown",
   "metadata": {},
   "source": [
    "## Data Imputation"
   ]
  },
  {
   "cell_type": "markdown",
   "metadata": {},
   "source": [
    "The last step before the modeling starts is to impute missing values in the data. Again, taking a look at the number of remaining missing values:"
   ]
  },
  {
   "cell_type": "code",
   "execution_count": 34,
   "metadata": {},
   "outputs": [
    {
     "data": {
      "text/plain": [
       "station_number                  0\n",
       "mean_temp                       0\n",
       "mean_dew_point                248\n",
       "mean_sealevel_pressure      19843\n",
       "mean_visibility                 6\n",
       "mean_wind_speed                19\n",
       "max_sustained_wind_speed      335\n",
       "total_precipitation          7157\n",
       "snow                            0\n",
       "dtype: int64"
      ]
     },
     "execution_count": 34,
     "metadata": {},
     "output_type": "execute_result"
    }
   ],
   "source": [
    "miss = weather.isna().sum()\n",
    "miss"
   ]
  },
  {
   "cell_type": "markdown",
   "metadata": {},
   "source": [
    "There are a lot of missing values for mean_sealevel_pressure. Taking a closer look:"
   ]
  },
  {
   "cell_type": "code",
   "execution_count": 35,
   "metadata": {},
   "outputs": [
    {
     "data": {
      "text/plain": [
       "station_number\n",
       "701740    1931\n",
       "702000    1931\n",
       "702190    1930\n",
       "702310    1928\n",
       "702610    1928\n",
       "          ... \n",
       "725200    1931\n",
       "725205    1929\n",
       "725240    1931\n",
       "725246    1929\n",
       "725260    1924\n",
       "Name: mean_sealevel_pressure, Length: 103, dtype: int64"
      ]
     },
     "execution_count": 35,
     "metadata": {},
     "output_type": "execute_result"
    }
   ],
   "source": [
    "# count non-missing values per station\n",
    "weather.groupby(\"station_number\")[\"mean_sealevel_pressure\"].agg(\"count\")"
   ]
  },
  {
   "cell_type": "code",
   "execution_count": 36,
   "metadata": {},
   "outputs": [
    {
     "data": {
      "text/plain": [
       "10"
      ]
     },
     "execution_count": 36,
     "metadata": {},
     "output_type": "execute_result"
    }
   ],
   "source": [
    "# check whether there are stations that have only missing values\n",
    "sum(weather.groupby(\"station_number\")[\"mean_sealevel_pressure\"].agg(\"count\") == 0)"
   ]
  },
  {
   "cell_type": "code",
   "execution_count": 37,
   "metadata": {},
   "outputs": [
    {
     "data": {
      "text/plain": [
       "station_number\n",
       "703870    0\n",
       "720258    0\n",
       "720308    0\n",
       "722075    0\n",
       "722094    0\n",
       "722129    0\n",
       "722324    0\n",
       "722332    0\n",
       "722598    0\n",
       "725128    0\n",
       "Name: mean_sealevel_pressure, dtype: int64"
      ]
     },
     "execution_count": 37,
     "metadata": {},
     "output_type": "execute_result"
    }
   ],
   "source": [
    "# get stations for which there are only missings\n",
    "empty_sea = weather.groupby(\"station_number\")[\"mean_sealevel_pressure\"].agg(\"count\") == 0\n",
    "weather.groupby(\"station_number\")[\"mean_sealevel_pressure\"].agg(\"count\")[empty_sea]"
   ]
  },
  {
   "cell_type": "markdown",
   "metadata": {},
   "source": [
    "Since there are only missings for these stations there is no reasonable approach to impute missing values for these stations. Hence, I drop them from the dataset."
   ]
  },
  {
   "cell_type": "code",
   "execution_count": 38,
   "metadata": {},
   "outputs": [],
   "source": [
    "stationToRemove = list(weather.groupby(\"station_number\")[\"mean_sealevel_pressure\"].agg(\"count\")[empty_sea].reset_index().station_number)\n",
    "weather = weather[~weather[\"station_number\"].isin(stationToRemove)]"
   ]
  },
  {
   "cell_type": "code",
   "execution_count": 39,
   "metadata": {},
   "outputs": [
    {
     "data": {
      "text/plain": [
       "station_number                 0\n",
       "mean_temp                      0\n",
       "mean_dew_point               231\n",
       "mean_sealevel_pressure       533\n",
       "mean_visibility                4\n",
       "mean_wind_speed               19\n",
       "max_sustained_wind_speed     322\n",
       "total_precipitation         1946\n",
       "snow                           0\n",
       "dtype: int64"
      ]
     },
     "execution_count": 39,
     "metadata": {},
     "output_type": "execute_result"
    }
   ],
   "source": [
    "miss = weather.isna().sum()\n",
    "miss"
   ]
  },
  {
   "cell_type": "markdown",
   "metadata": {},
   "source": [
    "Since there are only relatively few missings left, I impute these now. Since the data are time series data on weather information, it is very reasonable to assume that there are no huge steps or jumps in the data. Hence, I am using linear interpolation to impute the values."
   ]
  },
  {
   "cell_type": "code",
   "execution_count": 40,
   "metadata": {},
   "outputs": [],
   "source": [
    "weather = weather.interpolate()"
   ]
  },
  {
   "cell_type": "markdown",
   "metadata": {},
   "source": [
    "### Last Data Checks"
   ]
  },
  {
   "cell_type": "code",
   "execution_count": 41,
   "metadata": {},
   "outputs": [
    {
     "data": {
      "text/html": [
       "<div>\n",
       "<style scoped>\n",
       "    .dataframe tbody tr th:only-of-type {\n",
       "        vertical-align: middle;\n",
       "    }\n",
       "\n",
       "    .dataframe tbody tr th {\n",
       "        vertical-align: top;\n",
       "    }\n",
       "\n",
       "    .dataframe thead th {\n",
       "        text-align: right;\n",
       "    }\n",
       "</style>\n",
       "<table border=\"1\" class=\"dataframe\">\n",
       "  <thead>\n",
       "    <tr style=\"text-align: right;\">\n",
       "      <th></th>\n",
       "      <th>station_number</th>\n",
       "      <th>mean_temp</th>\n",
       "      <th>mean_dew_point</th>\n",
       "      <th>mean_sealevel_pressure</th>\n",
       "      <th>mean_visibility</th>\n",
       "      <th>mean_wind_speed</th>\n",
       "      <th>max_sustained_wind_speed</th>\n",
       "      <th>total_precipitation</th>\n",
       "    </tr>\n",
       "  </thead>\n",
       "  <tbody>\n",
       "    <tr>\n",
       "      <th>count</th>\n",
       "      <td>179583.000000</td>\n",
       "      <td>179583.000000</td>\n",
       "      <td>179583.000000</td>\n",
       "      <td>179583.000000</td>\n",
       "      <td>179583.000000</td>\n",
       "      <td>179583.000000</td>\n",
       "      <td>179583.000000</td>\n",
       "      <td>179583.000000</td>\n",
       "    </tr>\n",
       "    <tr>\n",
       "      <th>mean</th>\n",
       "      <td>720968.075269</td>\n",
       "      <td>55.874898</td>\n",
       "      <td>42.623992</td>\n",
       "      <td>1015.303030</td>\n",
       "      <td>9.004936</td>\n",
       "      <td>6.793438</td>\n",
       "      <td>13.581062</td>\n",
       "      <td>0.089788</td>\n",
       "    </tr>\n",
       "    <tr>\n",
       "      <th>std</th>\n",
       "      <td>7119.498991</td>\n",
       "      <td>20.031881</td>\n",
       "      <td>19.318328</td>\n",
       "      <td>7.788292</td>\n",
       "      <td>1.832410</td>\n",
       "      <td>3.787890</td>\n",
       "      <td>5.593906</td>\n",
       "      <td>0.303719</td>\n",
       "    </tr>\n",
       "    <tr>\n",
       "      <th>min</th>\n",
       "      <td>701740.000000</td>\n",
       "      <td>-55.200001</td>\n",
       "      <td>-37.599998</td>\n",
       "      <td>960.500000</td>\n",
       "      <td>0.100000</td>\n",
       "      <td>0.000000</td>\n",
       "      <td>1.900000</td>\n",
       "      <td>0.000000</td>\n",
       "    </tr>\n",
       "    <tr>\n",
       "      <th>25%</th>\n",
       "      <td>722223.000000</td>\n",
       "      <td>43.500000</td>\n",
       "      <td>29.000000</td>\n",
       "      <td>1011.500000</td>\n",
       "      <td>8.500000</td>\n",
       "      <td>4.100000</td>\n",
       "      <td>9.900000</td>\n",
       "      <td>0.000000</td>\n",
       "    </tr>\n",
       "    <tr>\n",
       "      <th>50%</th>\n",
       "      <td>723120.000000</td>\n",
       "      <td>58.299999</td>\n",
       "      <td>44.799999</td>\n",
       "      <td>1015.599976</td>\n",
       "      <td>9.800000</td>\n",
       "      <td>6.100000</td>\n",
       "      <td>13.000000</td>\n",
       "      <td>0.000000</td>\n",
       "    </tr>\n",
       "    <tr>\n",
       "      <th>75%</th>\n",
       "      <td>724650.000000</td>\n",
       "      <td>71.300003</td>\n",
       "      <td>57.599998</td>\n",
       "      <td>1019.799988</td>\n",
       "      <td>10.000000</td>\n",
       "      <td>8.700000</td>\n",
       "      <td>16.900000</td>\n",
       "      <td>0.020000</td>\n",
       "    </tr>\n",
       "    <tr>\n",
       "      <th>max</th>\n",
       "      <td>725260.000000</td>\n",
       "      <td>105.599998</td>\n",
       "      <td>80.099998</td>\n",
       "      <td>1048.699951</td>\n",
       "      <td>63.799999</td>\n",
       "      <td>41.000000</td>\n",
       "      <td>64.900002</td>\n",
       "      <td>10.310000</td>\n",
       "    </tr>\n",
       "  </tbody>\n",
       "</table>\n",
       "</div>"
      ],
      "text/plain": [
       "       station_number      mean_temp  mean_dew_point  mean_sealevel_pressure  \\\n",
       "count   179583.000000  179583.000000   179583.000000           179583.000000   \n",
       "mean    720968.075269      55.874898       42.623992             1015.303030   \n",
       "std       7119.498991      20.031881       19.318328                7.788292   \n",
       "min     701740.000000     -55.200001      -37.599998              960.500000   \n",
       "25%     722223.000000      43.500000       29.000000             1011.500000   \n",
       "50%     723120.000000      58.299999       44.799999             1015.599976   \n",
       "75%     724650.000000      71.300003       57.599998             1019.799988   \n",
       "max     725260.000000     105.599998       80.099998             1048.699951   \n",
       "\n",
       "       mean_visibility  mean_wind_speed  max_sustained_wind_speed  \\\n",
       "count    179583.000000    179583.000000             179583.000000   \n",
       "mean          9.004936         6.793438                 13.581062   \n",
       "std           1.832410         3.787890                  5.593906   \n",
       "min           0.100000         0.000000                  1.900000   \n",
       "25%           8.500000         4.100000                  9.900000   \n",
       "50%           9.800000         6.100000                 13.000000   \n",
       "75%          10.000000         8.700000                 16.900000   \n",
       "max          63.799999        41.000000                 64.900002   \n",
       "\n",
       "       total_precipitation  \n",
       "count        179583.000000  \n",
       "mean              0.089788  \n",
       "std               0.303719  \n",
       "min               0.000000  \n",
       "25%               0.000000  \n",
       "50%               0.000000  \n",
       "75%               0.020000  \n",
       "max              10.310000  "
      ]
     },
     "execution_count": 41,
     "metadata": {},
     "output_type": "execute_result"
    }
   ],
   "source": [
    "weather.describe()"
   ]
  },
  {
   "cell_type": "markdown",
   "metadata": {},
   "source": [
    "There are no suspicious entries in the above table which might indicate faulty data points, like for example unreasonably high or low temperatures. Hence, I will start the modeling part now."
   ]
  },
  {
   "cell_type": "markdown",
   "metadata": {},
   "source": [
    "*data cleansing and abstraction where appropriate, able to identifie columns that can be dropped, which information might be usefull and possible data imputation*"
   ]
  },
  {
   "cell_type": "markdown",
   "metadata": {},
   "source": [
    "### 3. Task\n",
    "*Now it is time to split the data, into a training, evaluation and test set. As a reminder, the date we are trying to predict snow fall for is the following, and hence should constitute your test set.*"
   ]
  },
  {
   "cell_type": "code",
   "execution_count": null,
   "metadata": {},
   "outputs": [],
   "source": [
    "import datetime, timedelta\n",
    "\n",
    "str(datetime.datetime.today()- datetime.timedelta(days=11*365)).split(' ')[0]"
   ]
  },
  {
   "cell_type": "code",
   "execution_count": null,
   "metadata": {},
   "outputs": [],
   "source": [
    "\n"
   ]
  },
  {
   "cell_type": "code",
   "execution_count": null,
   "metadata": {},
   "outputs": [],
   "source": []
  },
  {
   "cell_type": "code",
   "execution_count": null,
   "metadata": {},
   "outputs": [],
   "source": []
  },
  {
   "cell_type": "markdown",
   "metadata": {},
   "source": [
    "# TASK:\n",
    "## Part 2\n",
    "If you made it up to here all by yourself, you can use your prepared dataset to train an Algorithm of your choice to forecast whether it will snow on the following date for each station in this dataset:"
   ]
  },
  {
   "cell_type": "code",
   "execution_count": null,
   "metadata": {},
   "outputs": [],
   "source": [
    "import datetime, timedelta\n",
    "\n",
    "str(datetime.datetime.today()- datetime.timedelta(days=11*365)).split(' ')[0]"
   ]
  },
  {
   "cell_type": "markdown",
   "metadata": {},
   "source": [
    "# TASK:\n",
    "You are allowed to use any library you are comfortable with such as sklearn, tensorflow keras etc. \n",
    "If you did not manage to finish part one feel free to use the data provided in 'coding_challenge.csv' Note that this data does not represent a solution to Part 1. "
   ]
  },
  {
   "cell_type": "code",
   "execution_count": null,
   "metadata": {},
   "outputs": [],
   "source": []
  },
  {
   "cell_type": "code",
   "execution_count": null,
   "metadata": {},
   "outputs": [],
   "source": []
  },
  {
   "cell_type": "code",
   "execution_count": null,
   "metadata": {},
   "outputs": [],
   "source": []
  },
  {
   "cell_type": "code",
   "execution_count": null,
   "metadata": {},
   "outputs": [],
   "source": []
  }
 ],
 "metadata": {
  "kernelspec": {
   "display_name": "Python 3",
   "language": "python",
   "name": "python3"
  },
  "language_info": {
   "codemirror_mode": {
    "name": "ipython",
    "version": 3
   },
   "file_extension": ".py",
   "mimetype": "text/x-python",
   "name": "python",
   "nbconvert_exporter": "python",
   "pygments_lexer": "ipython3",
   "version": "3.8.6"
  },
  "varInspector": {
   "cols": {
    "lenName": 16,
    "lenType": 16,
    "lenVar": 40
   },
   "kernels_config": {
    "python": {
     "delete_cmd_postfix": "",
     "delete_cmd_prefix": "del ",
     "library": "var_list.py",
     "varRefreshCmd": "print(var_dic_list())"
    },
    "r": {
     "delete_cmd_postfix": ") ",
     "delete_cmd_prefix": "rm(",
     "library": "var_list.r",
     "varRefreshCmd": "cat(var_dic_list()) "
    }
   },
   "types_to_exclude": [
    "module",
    "function",
    "builtin_function_or_method",
    "instance",
    "_Feature"
   ],
   "window_display": false
  }
 },
 "nbformat": 4,
 "nbformat_minor": 4
}
